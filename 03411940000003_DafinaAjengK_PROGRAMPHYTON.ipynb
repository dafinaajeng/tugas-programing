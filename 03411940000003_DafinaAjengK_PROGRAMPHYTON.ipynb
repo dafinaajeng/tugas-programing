{
 "cells": [
  {
   "cell_type": "code",
   "execution_count": 3,
   "metadata": {},
   "outputs": [
    {
     "name": "stdout",
     "output_type": "stream",
     "text": [
      "total point ku:  0\n",
      "total point ku:  1\n",
      "total point ku:  2\n",
      "total point ku:  3\n",
      "total point ku:  4\n",
      "total point ku:  5\n",
      "total point ku:  6\n",
      "total point ku:  7\n",
      "total point ku:  8\n",
      "total point ku:  9\n",
      "total point ku:  10\n",
      "total point ku:  11\n",
      "total point ku:  12\n",
      "total point ku:  13\n",
      "total point ku:  14\n",
      "total point ku:  15\n",
      "total point ku:  16\n",
      "total point ku:  17\n",
      "total point ku:  18\n",
      "total point ku:  19\n"
     ]
    }
   ],
   "source": [
    "point_belanja = 0\n",
    "while True:\n",
    "    if point_belanja < 20:\n",
    "        print (\"total point ku: \", point_belanja)\n",
    "        point_belanja = point_belanja + 1\n",
    "    elif point_belanja >= 10:\n",
    "        break"
   ]
  },
  {
   "cell_type": "code",
   "execution_count": 4,
   "metadata": {},
   "outputs": [
    {
     "name": "stdout",
     "output_type": "stream",
     "text": [
      "Wardah\n",
      "cosrx\n",
      "Tonymolly\n",
      "Laneige\n"
     ]
    }
   ],
   "source": [
    "#daftar produk diskon\n",
    "\n",
    "barangdiskon = ['Wardah','cosrx','Tonymolly','Laneige']\n",
    "for skincare in barangdiskon:\n",
    "  print(skincare)"
   ]
  },
  {
   "cell_type": "code",
   "execution_count": 5,
   "metadata": {},
   "outputs": [
    {
     "name": "stdout",
     "output_type": "stream",
     "text": [
      "belanja minimum 50K\n"
     ]
    }
   ],
   "source": [
    "mendapatcashback = True \n",
    "diskon10persen = False\n",
    "if mendapatcashback== True: #execute this line if mendapatcashback is True\n",
    "    if diskon10persen == True: # if mendapatcashback and diskon10persen are True\n",
    "        print('belanja minimum 100K')\n",
    "    else: #if mendapatcashback True diskon10persen False\n",
    "        print('belanja minimum 50K')\n",
    "else: #execute this if mendapatcashback are False\n",
    "        if diskon10pers== False:\n",
    "            print ('tidak memenuhi minimum pembelanjaan')\n",
    "        else:\n",
    "            ('404 not found')"
   ]
  },
  {
   "cell_type": "code",
   "execution_count": 1,
   "metadata": {},
   "outputs": [
    {
     "name": "stdout",
     "output_type": "stream",
     "text": [
      "total belanja: Rp 20000\n"
     ]
    },
    {
     "ename": "TypeError",
     "evalue": "'>=' not supported between instances of 'str' and 'int'",
     "output_type": "error",
     "traceback": [
      "\u001b[1;31m---------------------------------------------------------------------------\u001b[0m",
      "\u001b[1;31mTypeError\u001b[0m                                 Traceback (most recent call last)",
      "\u001b[1;32m<ipython-input-1-93a136473b3f>\u001b[0m in \u001b[0;36m<module>\u001b[1;34m\u001b[0m\n\u001b[0;32m      9\u001b[0m \u001b[1;33m\u001b[0m\u001b[0m\n\u001b[0;32m     10\u001b[0m \u001b[1;31m#jika belanja diatas 50k berikan diskon sebesar 10 persen\u001b[0m\u001b[1;33m\u001b[0m\u001b[1;33m\u001b[0m\u001b[1;33m\u001b[0m\u001b[0m\n\u001b[1;32m---> 11\u001b[1;33m \u001b[1;32mif\u001b[0m \u001b[0mtotalbelanja\u001b[0m \u001b[1;33m>=\u001b[0m \u001b[1;36m50000\u001b[0m\u001b[1;33m:\u001b[0m\u001b[1;33m\u001b[0m\u001b[1;33m\u001b[0m\u001b[0m\n\u001b[0m\u001b[0;32m     12\u001b[0m     \u001b[0mprint\u001b[0m\u001b[1;33m(\u001b[0m\u001b[1;34m'kamu mendapatkan diskon 10 persen'\u001b[0m\u001b[1;33m)\u001b[0m\u001b[1;33m\u001b[0m\u001b[1;33m\u001b[0m\u001b[0m\n\u001b[0;32m     13\u001b[0m \u001b[1;33m\u001b[0m\u001b[0m\n",
      "\u001b[1;31mTypeError\u001b[0m: '>=' not supported between instances of 'str' and 'int'"
     ]
    }
   ],
   "source": [
    "#Program pengecekan diskon\n",
    "#file: bonus.py\n",
    "\n",
    "totalbelanja= input('total belanja: Rp ')\n",
    "#jumlah yang harus dibayar adalah berapa total belanjaannya\n",
    "#kalau mendapat diskon akan berkurang \n",
    "\n",
    "bayar= totalbelanja\n",
    "\n",
    "#jika belanja diatas 50k berikan diskon sebesar 10 persen\n",
    "if totalbelanja >= 50000:\n",
    "    print('kamu mendapatkan diskon 10 persen')\n",
    "    \n",
    "    #hitung diskon\n",
    "    diskon= totalbelanja * 10/100 #10%\n",
    "    bayar= totalbelanja-diskon\n",
    "\n",
    "#cetak struk \n",
    "print('total yang harus dibayar: Rp%s' % bayar)\n",
    "print('terimakasih telah berbelanja')"
   ]
  },
  {
   "cell_type": "code",
   "execution_count": 2,
   "metadata": {},
   "outputs": [
    {
     "name": "stdout",
     "output_type": "stream",
     "text": [
      "total belanja: Rp 50000\n"
     ]
    },
    {
     "ename": "TypeError",
     "evalue": "'>=' not supported between instances of 'str' and 'int'",
     "output_type": "error",
     "traceback": [
      "\u001b[1;31m---------------------------------------------------------------------------\u001b[0m",
      "\u001b[1;31mTypeError\u001b[0m                                 Traceback (most recent call last)",
      "\u001b[1;32m<ipython-input-2-93a136473b3f>\u001b[0m in \u001b[0;36m<module>\u001b[1;34m\u001b[0m\n\u001b[0;32m      9\u001b[0m \u001b[1;33m\u001b[0m\u001b[0m\n\u001b[0;32m     10\u001b[0m \u001b[1;31m#jika belanja diatas 50k berikan diskon sebesar 10 persen\u001b[0m\u001b[1;33m\u001b[0m\u001b[1;33m\u001b[0m\u001b[1;33m\u001b[0m\u001b[0m\n\u001b[1;32m---> 11\u001b[1;33m \u001b[1;32mif\u001b[0m \u001b[0mtotalbelanja\u001b[0m \u001b[1;33m>=\u001b[0m \u001b[1;36m50000\u001b[0m\u001b[1;33m:\u001b[0m\u001b[1;33m\u001b[0m\u001b[1;33m\u001b[0m\u001b[0m\n\u001b[0m\u001b[0;32m     12\u001b[0m     \u001b[0mprint\u001b[0m\u001b[1;33m(\u001b[0m\u001b[1;34m'kamu mendapatkan diskon 10 persen'\u001b[0m\u001b[1;33m)\u001b[0m\u001b[1;33m\u001b[0m\u001b[1;33m\u001b[0m\u001b[0m\n\u001b[0;32m     13\u001b[0m \u001b[1;33m\u001b[0m\u001b[0m\n",
      "\u001b[1;31mTypeError\u001b[0m: '>=' not supported between instances of 'str' and 'int'"
     ]
    }
   ],
   "source": [
    "#Program pengecekan diskon\n",
    "#file: bonus.py\n",
    "\n",
    "totalbelanja= input('total belanja: Rp ')\n",
    "#jumlah yang harus dibayar adalah berapa total belanjaannya\n",
    "#kalau mendapat diskon akan berkurang \n",
    "\n",
    "bayar= totalbelanja\n",
    "\n",
    "#jika belanja diatas 50k berikan diskon sebesar 10 persen\n",
    "if totalbelanja >= 50000:\n",
    "    print('kamu mendapatkan diskon 10 persen')\n",
    "    \n",
    "    #hitung diskon\n",
    "    diskon= totalbelanja * 10/100 #10%\n",
    "    bayar= totalbelanja-diskon\n",
    "\n",
    "#cetak struk \n",
    "print('total yang harus dibayar: Rp%s' % bayar)\n",
    "print('terimakasih telah berbelanja')"
   ]
  },
  {
   "cell_type": "code",
   "execution_count": null,
   "metadata": {},
   "outputs": [],
   "source": [
    "#Program pengecekan diskon\n",
    "#file: bonus.py\n",
    "\n",
    "totalbelanja= input('total belanja: Rp ')\n",
    "#jumlah yang harus dibayar adalah berapa total belanjaannya\n",
    "#kalau mendapat diskon akan berkurang \n",
    "\n",
    "bayar= totalbelanja\n",
    "\n",
    "#jika belanja diatas 50k berikan diskon sebesar 10 persen\n",
    "if totalbelanja >= 50000:\n",
    "    print('kamu mendapatkan diskon 10 persen')\n",
    "    \n",
    "    #hitung diskon\n",
    "    diskon= totalbelanja * 10/100 #10%\n",
    "    bayar= totalbelanja-diskon\n",
    "\n",
    "#cetak struk \n",
    "print('total yang harus dibayar: Rp%s' % bayar)\n",
    "print('terimakasih telah berbelanja')"
   ]
  },
  {
   "cell_type": "code",
   "execution_count": null,
   "metadata": {},
   "outputs": [],
   "source": []
  },
  {
   "cell_type": "code",
   "execution_count": null,
   "metadata": {},
   "outputs": [],
   "source": []
  }
 ],
 "metadata": {
  "kernelspec": {
   "display_name": "Python 3",
   "language": "python",
   "name": "python3"
  },
  "language_info": {
   "codemirror_mode": {
    "name": "ipython",
    "version": 3
   },
   "file_extension": ".py",
   "mimetype": "text/x-python",
   "name": "python",
   "nbconvert_exporter": "python",
   "pygments_lexer": "ipython3",
   "version": "3.7.4"
  }
 },
 "nbformat": 4,
 "nbformat_minor": 2
}
